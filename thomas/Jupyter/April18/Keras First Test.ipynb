{
 "cells": [
  {
   "cell_type": "code",
   "execution_count": 1,
   "metadata": {},
   "outputs": [],
   "source": [
    "import gensim"
   ]
  },
  {
   "cell_type": "code",
   "execution_count": 2,
   "metadata": {},
   "outputs": [
    {
     "name": "stderr",
     "output_type": "stream",
     "text": [
      "Using Theano backend.\n",
      "/home/ubuntu/anaconda3/envs/theano_p36/lib/python3.6/site-packages/matplotlib/__init__.py:962: UserWarning: Duplicate key in file \"/home/ubuntu/.config/matplotlib/matplotlibrc\", line #2\n",
      "  (fname, cnt))\n",
      "/home/ubuntu/anaconda3/envs/theano_p36/lib/python3.6/site-packages/matplotlib/__init__.py:962: UserWarning: Duplicate key in file \"/home/ubuntu/.config/matplotlib/matplotlibrc\", line #3\n",
      "  (fname, cnt))\n"
     ]
    }
   ],
   "source": [
    "import numpy as np\n",
    "np.random.seed(123)  # for reproducibility\n",
    " \n",
    "from keras.models import Sequential\n",
    "from keras.layers import Dense, Dropout, Activation, Flatten\n",
    "from keras.layers import Convolution2D, MaxPooling2D\n",
    "from keras.utils import np_utils\n",
    "from keras.datasets import imdb\n",
    "import pandas as pd\n",
    "from IPython.display import display # Allows the use of display() for DataFrames"
   ]
  },
  {
   "cell_type": "code",
   "execution_count": 8,
   "metadata": {},
   "outputs": [
    {
     "name": "stdout",
     "output_type": "stream",
     "text": [
      "45466\n"
     ]
    },
    {
     "name": "stderr",
     "output_type": "stream",
     "text": [
      "/home/ubuntu/anaconda3/envs/theano_p36/lib/python3.6/site-packages/IPython/core/interactiveshell.py:2728: DtypeWarning: Columns (10) have mixed types. Specify dtype option on import or set low_memory=False.\n",
      "  interactivity=interactivity, compiler=compiler, result=result)\n"
     ]
    }
   ],
   "source": [
    "dataset = pd.read_csv(\"data/movies_metadata.csv\", sep=\",\")\n",
    "print(len(dataset.index))"
   ]
  },
  {
   "cell_type": "code",
   "execution_count": 4,
   "metadata": {
    "scrolled": true
   },
   "outputs": [
    {
     "data": {
      "text/html": [
       "<div>\n",
       "<style scoped>\n",
       "    .dataframe tbody tr th:only-of-type {\n",
       "        vertical-align: middle;\n",
       "    }\n",
       "\n",
       "    .dataframe tbody tr th {\n",
       "        vertical-align: top;\n",
       "    }\n",
       "\n",
       "    .dataframe thead th {\n",
       "        text-align: right;\n",
       "    }\n",
       "</style>\n",
       "<table border=\"1\" class=\"dataframe\">\n",
       "  <thead>\n",
       "    <tr style=\"text-align: right;\">\n",
       "      <th></th>\n",
       "      <th>adult</th>\n",
       "      <th>original_title</th>\n",
       "      <th>overview</th>\n",
       "      <th>popularity</th>\n",
       "      <th>revenue</th>\n",
       "      <th>title</th>\n",
       "      <th>vote_average</th>\n",
       "    </tr>\n",
       "  </thead>\n",
       "  <tbody>\n",
       "    <tr>\n",
       "      <th>0</th>\n",
       "      <td>False</td>\n",
       "      <td>Toy Story</td>\n",
       "      <td>Led by Woody, Andy's toys live happily in his ...</td>\n",
       "      <td>21.9469</td>\n",
       "      <td>373554033.0</td>\n",
       "      <td>Toy Story</td>\n",
       "      <td>7.7</td>\n",
       "    </tr>\n",
       "    <tr>\n",
       "      <th>1</th>\n",
       "      <td>False</td>\n",
       "      <td>Jumanji</td>\n",
       "      <td>When siblings Judy and Peter discover an encha...</td>\n",
       "      <td>17.0155</td>\n",
       "      <td>262797249.0</td>\n",
       "      <td>Jumanji</td>\n",
       "      <td>6.9</td>\n",
       "    </tr>\n",
       "    <tr>\n",
       "      <th>2</th>\n",
       "      <td>False</td>\n",
       "      <td>Grumpier Old Men</td>\n",
       "      <td>A family wedding reignites the ancient feud be...</td>\n",
       "      <td>11.7129</td>\n",
       "      <td>0.0</td>\n",
       "      <td>Grumpier Old Men</td>\n",
       "      <td>6.5</td>\n",
       "    </tr>\n",
       "    <tr>\n",
       "      <th>3</th>\n",
       "      <td>False</td>\n",
       "      <td>Waiting to Exhale</td>\n",
       "      <td>Cheated on, mistreated and stepped on, the wom...</td>\n",
       "      <td>3.85949</td>\n",
       "      <td>81452156.0</td>\n",
       "      <td>Waiting to Exhale</td>\n",
       "      <td>6.1</td>\n",
       "    </tr>\n",
       "    <tr>\n",
       "      <th>4</th>\n",
       "      <td>False</td>\n",
       "      <td>Father of the Bride Part II</td>\n",
       "      <td>Just when George Banks has recovered from his ...</td>\n",
       "      <td>8.38752</td>\n",
       "      <td>76578911.0</td>\n",
       "      <td>Father of the Bride Part II</td>\n",
       "      <td>5.7</td>\n",
       "    </tr>\n",
       "  </tbody>\n",
       "</table>\n",
       "</div>"
      ],
      "text/plain": [
       "   adult               original_title  \\\n",
       "0  False                    Toy Story   \n",
       "1  False                      Jumanji   \n",
       "2  False             Grumpier Old Men   \n",
       "3  False            Waiting to Exhale   \n",
       "4  False  Father of the Bride Part II   \n",
       "\n",
       "                                            overview popularity      revenue  \\\n",
       "0  Led by Woody, Andy's toys live happily in his ...    21.9469  373554033.0   \n",
       "1  When siblings Judy and Peter discover an encha...    17.0155  262797249.0   \n",
       "2  A family wedding reignites the ancient feud be...    11.7129          0.0   \n",
       "3  Cheated on, mistreated and stepped on, the wom...    3.85949   81452156.0   \n",
       "4  Just when George Banks has recovered from his ...    8.38752   76578911.0   \n",
       "\n",
       "                         title  vote_average  \n",
       "0                    Toy Story           7.7  \n",
       "1                      Jumanji           6.9  \n",
       "2             Grumpier Old Men           6.5  \n",
       "3            Waiting to Exhale           6.1  \n",
       "4  Father of the Bride Part II           5.7  "
      ]
     },
     "metadata": {},
     "output_type": "display_data"
    }
   ],
   "source": [
    "dataset = dataset.drop(['belongs_to_collection', 'budget', 'genres', 'homepage', 'id', 'imdb_id',\n",
    "                        'original_language','poster_path', 'production_companies', 'production_countries', 'release_date',\n",
    "                       'runtime', 'spoken_languages', 'status', 'tagline', 'video', 'vote_count'], axis=1)\n",
    "display(dataset.head(n=5))"
   ]
  },
  {
   "cell_type": "code",
   "execution_count": 5,
   "metadata": {},
   "outputs": [],
   "source": [
    "dataset.to_csv(\"data/movies_metadata_mod.csv\", \",\")"
   ]
  },
  {
   "cell_type": "code",
   "execution_count": 4,
   "metadata": {},
   "outputs": [
    {
     "name": "stderr",
     "output_type": "stream",
     "text": [
      "/home/ubuntu/anaconda3/envs/theano_p36/lib/python3.6/site-packages/matplotlib/__init__.py:962: UserWarning: Duplicate key in file \"/home/ubuntu/.config/matplotlib/matplotlibrc\", line #2\n",
      "  (fname, cnt))\n",
      "/home/ubuntu/anaconda3/envs/theano_p36/lib/python3.6/site-packages/matplotlib/__init__.py:962: UserWarning: Duplicate key in file \"/home/ubuntu/.config/matplotlib/matplotlibrc\", line #3\n",
      "  (fname, cnt))\n",
      "/home/ubuntu/anaconda3/envs/theano_p36/lib/python3.6/site-packages/matplotlib/font_manager.py:281: UserWarning: Matplotlib is building the font cache using fc-list. This may take a moment.\n",
      "  'Matplotlib is building the font cache using fc-list. '\n"
     ]
    },
    {
     "data": {
      "text/plain": [
       "<matplotlib.image.AxesImage at 0x7fe37c065d30>"
      ]
     },
     "execution_count": 4,
     "metadata": {},
     "output_type": "execute_result"
    }
   ],
   "source": []
  },
  {
   "cell_type": "code",
   "execution_count": 1,
   "metadata": {},
   "outputs": [
    {
     "name": "stdout",
     "output_type": "stream",
     "text": [
      "['asn1crypto==0.24.0', 'autovizwidget==0.12.5', 'bleach==2.1.2', 'bokeh==0.12.14', 'boto3==1.5.34', 'botocore==1.8.48', 'certifi==2018.1.18', 'cffi==1.11.4', 'chardet==3.0.4', 'cryptography==2.1.4', 'cycler==0.10.0', 'decorator==4.2.1', 'docutils==0.14', 'entrypoints==0.2.3', 'environment-kernels==1.1.1', 'hdijupyterutils==0.12.5', 'html5lib==1.0.1', 'idna==2.6', 'ipykernel==4.8.2', 'ipython-genutils==0.2.0', 'ipython==6.2.1', 'ipywidgets==7.1.2', 'jedi==0.11.1', 'jinja2==2.10', 'jmespath==0.9.3', 'jsonschema==2.6.0', 'jupyter-client==5.2.2', 'jupyter-core==4.4.0', 'keras==2.1.4', 'mako==1.0.7', 'markupsafe==1.0', 'matplotlib==2.1.2', 'mistune==0.8.3', 'nb-conda-kernels==2.1.0', 'nb-conda==2.2.1', 'nbconvert==5.3.1', 'nbformat==4.4.0', 'notebook==5.4.0', 'numpy==1.14.1', 'packaging==16.8', 'pandas==0.22.0', 'pandocfilters==1.4.2', 'parso==0.1.1', 'pexpect==4.4.0', 'pickleshare==0.7.4', 'pip==9.0.1', 'plotly==2.4.0', 'prompt-toolkit==1.0.15', 'protobuf==3.5.0', 'psycopg2==2.7.4', 'ptyprocess==0.5.2', 'py4j==0.10.4', 'pycparser==2.18', 'pygal==2.4.0', 'pygments==2.2.0', 'pygpu==0.7.5', 'pykerberos==1.1.14', 'pyopenssl==17.5.0', 'pyparsing==2.2.0', 'pysocks==1.6.7', 'pyspark==2.2.1', 'python-dateutil==2.6.1', 'pytz==2018.3', 'pyyaml==3.12', 'pyzmq==17.0.0', 'requests-kerberos==0.11.0', 'requests==2.18.4', 's3transfer==0.1.13', 'scipy==1.0.0', 'send2trash==1.5.0', 'setuptools==38.5.1', 'simplegeneric==0.8.1', 'six==1.11.0', 'sparkmagic==0.12.5', 'sqlalchemy==1.2.3', 'terminado==0.8.1', 'testpath==0.3.1', 'theano==1.0.1+2.gcd195ed28', 'tornado==4.5.3', 'traitlets==4.3.2', 'urllib3==1.22', 'wcwidth==0.1.7', 'webencodings==0.5.1', 'wheel==0.30.0', 'widgetsnbextension==3.1.4']\n"
     ]
    }
   ],
   "source": [
    "import pip\n",
    "installed_packages = pip.get_installed_distributions()\n",
    "installed_packages_list = sorted([\"%s==%s\" % (i.key, i.version)\n",
    "     for i in installed_packages])\n",
    "print(installed_packages_list)"
   ]
  },
  {
   "cell_type": "code",
   "execution_count": null,
   "metadata": {},
   "outputs": [],
   "source": [
    "\n",
    "# 5. Preprocess input data\n",
    "X_train = X_train.reshape(X_train.shape[0], 1, 28, 28)\n",
    "X_test = X_test.reshape(X_test.shape[0], 1, 28, 28)\n",
    "X_train = X_train.astype('float32')\n",
    "X_test = X_test.astype('float32')\n",
    "X_train /= 255\n",
    "X_test /= 255\n",
    " \n",
    "# 6. Preprocess class labels\n",
    "Y_train = np_utils.to_categorical(y_train, 10)\n",
    "Y_test = np_utils.to_categorical(y_test, 10)\n",
    " \n",
    "# 7. Define model architecture\n",
    "model = Sequential()\n",
    " \n",
    "model.add(Convolution2D(32, 3, 3, activation='relu', input_shape=(1,28,28)))\n",
    "model.add(Convolution2D(32, 3, 3, activation='relu'))\n",
    "model.add(MaxPooling2D(pool_size=(2,2)))\n",
    "model.add(Dropout(0.25))\n",
    " \n",
    "model.add(Flatten())\n",
    "model.add(Dense(128, activation='relu'))\n",
    "model.add(Dropout(0.5))\n",
    "model.add(Dense(10, activation='softmax'))\n",
    " \n",
    "# 8. Compile model\n",
    "model.compile(loss='categorical_crossentropy',\n",
    "              optimizer='adam',\n",
    "              metrics=['accuracy'])\n",
    " \n",
    "# 9. Fit model on training data\n",
    "model.fit(X_train, Y_train, \n",
    "          batch_size=32, nb_epoch=10, verbose=1)\n",
    " \n",
    "# 10. Evaluate model on test data\n",
    "score = model.evaluate(X_test, Y_test, verbose=0)"
   ]
  }
 ],
 "metadata": {
  "kernelspec": {
   "display_name": "Python [conda env:theano_p36]",
   "language": "python",
   "name": "conda-env-theano_p36-py"
  },
  "language_info": {
   "codemirror_mode": {
    "name": "ipython",
    "version": 3
   },
   "file_extension": ".py",
   "mimetype": "text/x-python",
   "name": "python",
   "nbconvert_exporter": "python",
   "pygments_lexer": "ipython3",
   "version": "3.6.4"
  }
 },
 "nbformat": 4,
 "nbformat_minor": 2
}
