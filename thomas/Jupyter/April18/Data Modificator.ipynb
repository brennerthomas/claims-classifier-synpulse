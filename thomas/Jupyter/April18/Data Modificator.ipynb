{
 "cells": [
  {
   "cell_type": "code",
   "execution_count": 8,
   "metadata": {},
   "outputs": [
    {
     "name": "stdout",
     "output_type": "stream",
     "text": [
      "Pivot: 28331\n",
      "44506\n"
     ]
    }
   ],
   "source": [
    "#Training Data\n",
    "\n",
    "import pandas as pd\n",
    "\n",
    "dataset = pd.read_csv(\"data/movies_metadata_mod.csv\", sep=\",\")\n",
    "reduced_dataset = dataset.drop(['Unnamed: 0', 'adult', 'original_title', 'popularity', 'revenue', 'title'], axis = 1)\n",
    "reduced_dataset = reduced_dataset.dropna(how=\"any\")\n",
    "description_list = reduced_dataset['overview'].tolist()\n",
    "vote = reduced_dataset['vote_average'].tolist()\n",
    "\n",
    "count_pos_train = 0\n",
    "count_neg_train = 0\n",
    "\n",
    "count_pos_eval = 0\n",
    "count_neg_eval = 0\n",
    "\n",
    "maximum_training = 5000\n",
    "maximum_eval = 5000\n",
    "\n",
    "pivot = 0\n",
    "\n",
    "path = \"data/\"\n",
    "\n",
    "with open('data/positive_examples.txt', 'w+') as pos_file:\n",
    "    with open('data/negative_examples.txt', 'w+') as neg_file:\n",
    "        for i in range(0, len(vote)):\n",
    "            if vote[i] > 7.0:\n",
    "                if count_pos_train < maximum_training:\n",
    "                    pos_file.write(description_list[i] + \"\\n\")\n",
    "                    count_pos_train += 1\n",
    "                    pivot = i\n",
    "            else:\n",
    "                if count_neg_train < maximum_training:\n",
    "                    neg_file.write(description_list[i] + \"\\n\")\n",
    "                    count_neg_train += 1\n",
    "                    pivot = i\n",
    "            \n",
    "print(\"Pivot: {}\".format(pivot))\n",
    "                    \n",
    "with open('data/positive_eval_examples.txt', 'w+') as pos_eval_file:\n",
    "    with open('data/negative_eval_examples.txt', 'w+') as neg_eval_file:\n",
    "        for i in range(pivot, len(vote)):\n",
    "            if vote[i] > 7.0:\n",
    "                if count_pos_eval < maximum_eval:\n",
    "                    pos_eval_file.write(description_list[i] + \"\\n\")\n",
    "                    count_pos_eval += 1\n",
    "            else:\n",
    "                if  count_neg_eval < maximum_eval:\n",
    "                    neg_eval_file.write(description_list[i] + \"\\n\")\n",
    "                    count_neg_eval += 1\n",
    "                    \n",
    "print(len(vote))\n"
   ]
  },
  {
   "cell_type": "code",
   "execution_count": null,
   "metadata": {},
   "outputs": [],
   "source": []
  }
 ],
 "metadata": {
  "kernelspec": {
   "display_name": "Python [conda env:theano_p36]",
   "language": "python",
   "name": "conda-env-theano_p36-py"
  },
  "language_info": {
   "codemirror_mode": {
    "name": "ipython",
    "version": 3
   },
   "file_extension": ".py",
   "mimetype": "text/x-python",
   "name": "python",
   "nbconvert_exporter": "python",
   "pygments_lexer": "ipython3",
   "version": "3.6.4"
  }
 },
 "nbformat": 4,
 "nbformat_minor": 2
}
