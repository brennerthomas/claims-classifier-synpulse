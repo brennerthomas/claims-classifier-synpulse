{
 "cells": [
  {
   "cell_type": "code",
   "execution_count": 1,
   "metadata": {},
   "outputs": [],
   "source": [
    "import numpy as np\n",
    "import re\n",
    "import itertools\n",
    "from collections import Counter"
   ]
  },
  {
   "cell_type": "code",
   "execution_count": 29,
   "metadata": {},
   "outputs": [],
   "source": [
    "sentiment_list = list(open(\"train.csv\").readlines())\n",
    "sentiment_dict = {}\n",
    "text_dict = {}\n",
    "\n",
    "pos_counter = 0\n",
    "neg_counter = 0\n",
    "\n",
    "with open('positive_examples.txt', 'w+') as pos_file:\n",
    "    with open('negative_examples.txt', 'w+') as neg_file:\n",
    "        for i in range(0, len(sentiment_list)-1):\n",
    "            entry_list = sentiment_list[i+1].split(\",\")\n",
    "            #print(\"{}        {}\".format(i, entry_list[1]))\n",
    "            sentiment = int(entry_list[1][:-1])\n",
    "            text = list(open(\"data/train/{}.txt\".format(str(i))).readlines())\n",
    "            if sentiment == 0:\n",
    "                neg_file.write(text[0] + \"\\n\")\n",
    "            else:\n",
    "                pos_file.write(text[0] + \"\\n\")\n",
    "            sentiment_dict[int(entry_list[0])] = sentiment\n",
    "            text = list(open(\"data/train/{}.txt\".format(str(i))).readlines())\n",
    "    \n",
    "#for i in range(0,25000):\n",
    "#    text = list(open(\"data/train/{}.txt\".format(str(i))).readlines())\n",
    "#train_data = list(open(\"data/train/0.txt\").readlines())\n",
    "#print(train_data)\n",
    "# train_data = [s.strip() for s in positive_examples]\n",
    "\n",
    "# for i in range(0,5):\n",
    "#    print(train_data[i])"
   ]
  },
  {
   "cell_type": "code",
   "execution_count": null,
   "metadata": {},
   "outputs": [],
   "source": []
  }
 ],
 "metadata": {
  "kernelspec": {
   "display_name": "Python [conda root]",
   "language": "python",
   "name": "conda-root-py"
  },
  "language_info": {
   "codemirror_mode": {
    "name": "ipython",
    "version": 3
   },
   "file_extension": ".py",
   "mimetype": "text/x-python",
   "name": "python",
   "nbconvert_exporter": "python",
   "pygments_lexer": "ipython3",
   "version": "3.6.3"
  }
 },
 "nbformat": 4,
 "nbformat_minor": 2
}
