{
 "cells": [
  {
   "cell_type": "code",
   "execution_count": 1,
   "metadata": {},
   "outputs": [
    {
     "name": "stderr",
     "output_type": "stream",
     "text": [
      "/home/ubuntu/anaconda3/envs/theano_p36/lib/python3.6/site-packages/matplotlib/__init__.py:962: UserWarning: Duplicate key in file \"/home/ubuntu/.config/matplotlib/matplotlibrc\", line #2\n",
      "  (fname, cnt))\n",
      "/home/ubuntu/anaconda3/envs/theano_p36/lib/python3.6/site-packages/matplotlib/__init__.py:962: UserWarning: Duplicate key in file \"/home/ubuntu/.config/matplotlib/matplotlibrc\", line #3\n",
      "  (fname, cnt))\n"
     ]
    }
   ],
   "source": [
    "import pandas as pd\n",
    "\n",
    "dataset = pd.read_csv(\"data/movies_metadata_mod.csv\", sep=\",\")\n",
    "reduced_dataset = dataset.drop(['Unnamed: 0', 'adult', 'original_title', 'popularity', 'revenue', 'title'], axis = 1)\n",
    "reduced_dataset = reduced_dataset.dropna(how=\"any\")\n",
    "description_list = reduced_dataset['overview'].tolist()\n",
    "vote = reduced_dataset['vote_average'].tolist()\n",
    "\n",
    "count_pos = 0\n",
    "count_neg = 0\n",
    "\n",
    "maxi = 10000\n",
    "\n",
    "path = \"data/\"\n",
    "\n",
    "with open('data/positive_examples.txt', 'a') as pos_file:\n",
    "    with open('data/negative_examples.txt', 'a') as neg_file:\n",
    "        for i in range(0,len(vote)):\n",
    "            if vote[i] > 7.0:\n",
    "                if count_pos < maxi:\n",
    "                    pos_file.write(description_list[i])\n",
    "                    count_pos += 1\n",
    "            else:\n",
    "                if count_neg < maxi:\n",
    "                    neg_file.write(description_list[i])\n",
    "                    count_neg += 1\n"
   ]
  },
  {
   "cell_type": "code",
   "execution_count": null,
   "metadata": {},
   "outputs": [],
   "source": []
  }
 ],
 "metadata": {
  "kernelspec": {
   "display_name": "Python [conda env:theano_p36]",
   "language": "python",
   "name": "conda-env-theano_p36-py"
  },
  "language_info": {
   "codemirror_mode": {
    "name": "ipython",
    "version": 3
   },
   "file_extension": ".py",
   "mimetype": "text/x-python",
   "name": "python",
   "nbconvert_exporter": "python",
   "pygments_lexer": "ipython3",
   "version": "3.6.4"
  }
 },
 "nbformat": 4,
 "nbformat_minor": 2
}
